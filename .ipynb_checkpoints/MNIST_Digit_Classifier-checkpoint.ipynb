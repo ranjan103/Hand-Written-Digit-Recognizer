{
 "cells": [
  {
   "cell_type": "code",
   "execution_count": 34,
   "metadata": {},
   "outputs": [],
   "source": [
    "import numpy as np\n",
    "import math\n",
    "import os\n",
    "\n",
    "from keras.layers import Conv2D, Flatten, MaxPooling2D\n",
    "from keras.layers import Activation, Dense, Dropout, Flatten, InputLayer\n",
    "from keras.models import Sequential\n",
    "from keras import metrics\n",
    "from keras.models import model_from_json\n",
    "from keras.models import load_model\n",
    "import tensorflow as tf"
   ]
  },
  {
   "cell_type": "code",
   "execution_count": 13,
   "metadata": {},
   "outputs": [
    {
     "name": "stdout",
     "output_type": "stream",
     "text": [
      "Extracting MNIST-data/train-images-idx3-ubyte.gz\n",
      "Extracting MNIST-data/train-labels-idx1-ubyte.gz\n",
      "Extracting MNIST-data/t10k-images-idx3-ubyte.gz\n",
      "Extracting MNIST-data/t10k-labels-idx1-ubyte.gz\n"
     ]
    }
   ],
   "source": [
    "# Import the dataset\n",
    "mnist = tf.contrib.learn.datasets.load_dataset(\"mnist\")"
   ]
  },
  {
   "cell_type": "code",
   "execution_count": 14,
   "metadata": {},
   "outputs": [],
   "source": [
    "# Extract the train and test data\n",
    "train_data = mnist.train.images  # Returns np.array\n",
    "train_labels = np.asarray(mnist.train.labels, dtype=np.int32)\n",
    "test_data = mnist.test.images  # Returns np.array\n",
    "test_labels = np.asarray(mnist.test.labels, dtype=np.int32)\n",
    "\n",
    "train_labels = train_labels.reshape(-1, 1)\n",
    "test_labels = test_labels.reshape(-1, 1)\n",
    "\n",
    "train_data = train_data.reshape((-1, 28, 28, 1))\n",
    "train_labels = train_labels\n",
    "test_data = test_data.reshape((-1, 28, 28, 1))\n",
    "test_labels = test_labels"
   ]
  },
  {
   "cell_type": "code",
   "execution_count": 15,
   "metadata": {},
   "outputs": [
    {
     "name": "stdout",
     "output_type": "stream",
     "text": [
      ">>> Shapes\n",
      "Train Data: (55000, 28, 28, 1)\n",
      "Train Labels: (55000, 1)\n",
      "Test Data: (10000, 28, 28, 1)\n",
      "Test labels: (10000, 1)\n"
     ]
    }
   ],
   "source": [
    "print('>>> Shapes')\n",
    "print('Train Data:', train_data.shape)\n",
    "print('Train Labels:', train_labels.shape)\n",
    "print('Test Data:', test_data.shape)\n",
    "print('Test labels:', test_labels.shape)"
   ]
  },
  {
   "cell_type": "code",
   "execution_count": 43,
   "metadata": {},
   "outputs": [],
   "source": [
    "model = Sequential()\n",
    "model.add(InputLayer(input_shape=(28, 28, 1)))\n",
    "model.add(Conv2D(32, (5, 5), activation='relu', padding='same'))\n",
    "model.add(MaxPooling2D(pool_size=(2, 2), strides=2))\n",
    "model.add(Conv2D(64, (5, 5), activation='relu', padding='same'))\n",
    "model.add(MaxPooling2D(pool_size=(2, 2), strides=2))\n",
    "model.add(Flatten())\n",
    "model.add(Dense(units=1024, activation='relu'))\n",
    "model.add(Dropout(rate=0.4, noise_shape=None, seed=None))\n",
    "model.add(Dense(units=10))\n",
    "model.add(Activation('softmax'))\n",
    "model.compile(optimizer='adam', loss='sparse_categorical_crossentropy', \n",
    "              metrics=[metrics.sparse_categorical_accuracy])\n",
    "\n",
    "# Loading model weights\n",
    "if os.path.isfile('model.h5'):\n",
    "    model.load_weights('model.h5') "
   ]
  },
  {
   "cell_type": "code",
   "execution_count": 40,
   "metadata": {},
   "outputs": [
    {
     "name": "stdout",
     "output_type": "stream",
     "text": [
      "Epoch 1/3\n",
      "55000/55000 [==============================] - 150s 3ms/step - loss: 0.0341 - sparse_categorical_accuracy: 0.9894\n",
      "Epoch 2/3\n",
      "55000/55000 [==============================] - 145s 3ms/step - loss: 0.0259 - sparse_categorical_accuracy: 0.9914\n",
      "Epoch 3/3\n",
      "55000/55000 [==============================] - 147s 3ms/step - loss: 0.0200 - sparse_categorical_accuracy: 0.9943\n"
     ]
    },
    {
     "data": {
      "text/plain": [
       "<keras.callbacks.History at 0x7f6580075dd8>"
      ]
     },
     "execution_count": 40,
     "metadata": {},
     "output_type": "execute_result"
    }
   ],
   "source": [
    "model.fit(x=train_data, y=train_labels, batch_size=64, epochs=3)"
   ]
  },
  {
   "cell_type": "code",
   "execution_count": 41,
   "metadata": {},
   "outputs": [
    {
     "name": "stdout",
     "output_type": "stream",
     "text": [
      "55000/55000 [==============================] - 40s 720us/step\n",
      "10000/10000 [==============================] - 7s 742us/step\n",
      "\n",
      "Train accuracy: 99.61 %\n",
      "Test accuracy: 99.12 %\n"
     ]
    }
   ],
   "source": [
    "_, accuracy_train = model.evaluate(train_data, train_labels)\n",
    "_, accuracy_test = model.evaluate(test_data, test_labels)\n",
    "\n",
    "print('\\nTrain accuracy:', round(accuracy_train*100, 2), '%')\n",
    "print('Test accuracy:', round(accuracy_test*100, 2), '%')"
   ]
  },
  {
   "cell_type": "code",
   "execution_count": 44,
   "metadata": {},
   "outputs": [],
   "source": [
    "# Saving the model\n",
    "model.save('model.h5')  # creates a HDF5 file 'my_model.h5'\n",
    "del model  # deletes the existing model"
   ]
  }
 ],
 "metadata": {
  "kernelspec": {
   "display_name": "Python 3",
   "language": "python",
   "name": "python3"
  },
  "language_info": {
   "codemirror_mode": {
    "name": "ipython",
    "version": 3
   },
   "file_extension": ".py",
   "mimetype": "text/x-python",
   "name": "python",
   "nbconvert_exporter": "python",
   "pygments_lexer": "ipython3",
   "version": "3.6.5"
  }
 },
 "nbformat": 4,
 "nbformat_minor": 2
}
